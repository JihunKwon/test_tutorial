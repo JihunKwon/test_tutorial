{
 "cells": [
  {
   "cell_type": "code",
   "execution_count": 7,
   "metadata": {},
   "outputs": [],
   "source": [
    "key = 'my_var'\n",
    "value = 1.234\n",
    "\n",
    "old_way = '%-10s = %.2f' % (key, value)\n",
    "\n",
    "new_way = '%(key)-10s = %(value).2f' % {\n",
    "    'key': key, 'value': value} # Original\n",
    "\n",
    "reordered = '%(key)-10s = %(value2).2f' % {\n",
    "    'value2': value, 'key': key} # Swapped\n",
    "\n"
   ]
  },
  {
   "cell_type": "code",
   "execution_count": 8,
   "metadata": {},
   "outputs": [],
   "source": [
    "assert old_way == new_way == reordered"
   ]
  },
  {
   "cell_type": "code",
   "execution_count": 12,
   "metadata": {},
   "outputs": [],
   "source": [
    "import numpy as np\n",
    "a = np.array(5)"
   ]
  },
  {
   "cell_type": "code",
   "execution_count": 15,
   "metadata": {},
   "outputs": [
    {
     "data": {
      "text/plain": [
       "array(5)"
      ]
     },
     "execution_count": 15,
     "metadata": {},
     "output_type": "execute_result"
    }
   ],
   "source": [
    "b = np.array(5.5, )"
   ]
  },
  {
   "cell_type": "code",
   "execution_count": 9,
   "metadata": {},
   "outputs": [],
   "source": [
    "name = 'Max'\n",
    "\n",
    "\n",
    "template = '%s loves food. See %s cook.'\n",
    "before = template % (name, name) # Tuple\n",
    "\n",
    "\n",
    "template = '%(name2)s loves food. See %(name2)s cook.'\n",
    "after = template % {'name2': name} # Dictionary\n",
    "\n",
    "\n",
    "assert before == after"
   ]
  },
  {
   "cell_type": "code",
   "execution_count": null,
   "metadata": {},
   "outputs": [],
   "source": []
  }
 ],
 "metadata": {
  "kernelspec": {
   "display_name": "Python 3",
   "language": "python",
   "name": "python3"
  },
  "language_info": {
   "codemirror_mode": {
    "name": "ipython",
    "version": 3
   },
   "file_extension": ".py",
   "mimetype": "text/x-python",
   "name": "python",
   "nbconvert_exporter": "python",
   "pygments_lexer": "ipython3",
   "version": "3.8.3"
  }
 },
 "nbformat": 4,
 "nbformat_minor": 4
}
